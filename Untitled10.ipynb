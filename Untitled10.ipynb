{
 "cells": [
  {
   "cell_type": "code",
   "execution_count": 17,
   "id": "c01782a4",
   "metadata": {},
   "outputs": [
    {
     "name": "stdout",
     "output_type": "stream",
     "text": [
      "0.8571428571428571\n",
      "9223372036854775807\n",
      "0.6666666666666666\n"
     ]
    }
   ],
   "source": [
    "import sys\n",
    "\n",
    "def divide(x ,y):\n",
    "    if y == 0:\n",
    "        return sys.maxsize\n",
    "    return x /y\n",
    "\n",
    "print(divide(6 ,7))\n",
    "print(divide(5 ,0))\n",
    "print(divide(2 ,3))"
   ]
  },
  {
   "cell_type": "code",
   "execution_count": 18,
   "id": "c354cb2a",
   "metadata": {},
   "outputs": [
    {
     "name": "stdout",
     "output_type": "stream",
     "text": [
      "2 ,  15\n",
      "x/y ==  0.13333333333333333\n",
      "y/x ==  7.5\n",
      "24 ,  8\n",
      "x/y ==  3.0\n",
      "y/x ==  0.3333333333333333\n",
      "39 ,  48\n",
      "x/y ==  0.8125\n",
      "y/x ==  1.2307692307692308\n",
      "11 ,  24\n",
      "x/y ==  0.4583333333333333\n",
      "y/x ==  2.1818181818181817\n",
      "31 ,  39\n",
      "x/y ==  0.7948717948717948\n",
      "y/x ==  1.2580645161290323\n"
     ]
    }
   ],
   "source": [
    "import sys\n",
    "import random\n",
    "\n",
    "def divide(x ,y):\n",
    "    if y == 0:\n",
    "        return sys.maxsize\n",
    "    return x /y\n",
    "\n",
    "for i in  range(5):\n",
    "    x = random. randint(0,50) \n",
    "    y = random. randint(0,50) \n",
    "    print(x, \", \",y)\n",
    "    print(\"x/y == \",divide(x, y))\n",
    "    print(\"y/x == \",divide(y, x))"
   ]
  },
  {
   "cell_type": "code",
   "execution_count": null,
   "id": "91c0eab1",
   "metadata": {},
   "outputs": [],
   "source": []
  }
 ],
 "metadata": {
  "kernelspec": {
   "display_name": "Python 3",
   "language": "python",
   "name": "python3"
  },
  "language_info": {
   "codemirror_mode": {
    "name": "ipython",
    "version": 3
   },
   "file_extension": ".py",
   "mimetype": "text/x-python",
   "name": "python",
   "nbconvert_exporter": "python",
   "pygments_lexer": "ipython3",
   "version": "3.8.8"
  }
 },
 "nbformat": 4,
 "nbformat_minor": 5
}
